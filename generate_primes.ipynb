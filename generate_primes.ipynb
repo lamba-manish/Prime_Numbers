{
 "cells": [
  {
   "cell_type": "code",
   "execution_count": 13,
   "id": "d3d17445",
   "metadata": {},
   "outputs": [
    {
     "ename": "KeyboardInterrupt",
     "evalue": "",
     "output_type": "error",
     "traceback": [
      "\u001b[1;31m---------------------------------------------------------------------------\u001b[0m",
      "\u001b[1;31mKeyboardInterrupt\u001b[0m                         Traceback (most recent call last)",
      "\u001b[1;32m~\\AppData\\Local\\Temp\\ipykernel_24560\\1339174721.py\u001b[0m in \u001b[0;36m<module>\u001b[1;34m\u001b[0m\n\u001b[0;32m     40\u001b[0m \u001b[0mend\u001b[0m \u001b[1;33m=\u001b[0m \u001b[0mstart\u001b[0m \u001b[1;33m+\u001b[0m \u001b[0mchunk_size\u001b[0m \u001b[1;33m-\u001b[0m \u001b[1;36m1\u001b[0m\u001b[1;33m\u001b[0m\u001b[1;33m\u001b[0m\u001b[0m\n\u001b[0;32m     41\u001b[0m \u001b[1;32mwhile\u001b[0m \u001b[1;32mTrue\u001b[0m\u001b[1;33m:\u001b[0m\u001b[1;33m\u001b[0m\u001b[1;33m\u001b[0m\u001b[0m\n\u001b[1;32m---> 42\u001b[1;33m     \u001b[0mprimes\u001b[0m \u001b[1;33m=\u001b[0m \u001b[0mgenerate_prime_numbers\u001b[0m\u001b[1;33m(\u001b[0m\u001b[0mstart\u001b[0m\u001b[1;33m,\u001b[0m \u001b[0mend\u001b[0m\u001b[1;33m)\u001b[0m\u001b[1;33m\u001b[0m\u001b[1;33m\u001b[0m\u001b[0m\n\u001b[0m\u001b[0;32m     43\u001b[0m     \u001b[1;32mif\u001b[0m \u001b[1;32mnot\u001b[0m \u001b[0mprimes\u001b[0m\u001b[1;33m:\u001b[0m\u001b[1;33m\u001b[0m\u001b[1;33m\u001b[0m\u001b[0m\n\u001b[0;32m     44\u001b[0m         \u001b[1;32mbreak\u001b[0m\u001b[1;33m\u001b[0m\u001b[1;33m\u001b[0m\u001b[0m\n",
      "\u001b[1;32m~\\AppData\\Local\\Temp\\ipykernel_24560\\1339174721.py\u001b[0m in \u001b[0;36mgenerate_prime_numbers\u001b[1;34m(start, end)\u001b[0m\n\u001b[0;32m     25\u001b[0m     \u001b[0mprimes\u001b[0m \u001b[1;33m=\u001b[0m \u001b[1;33m[\u001b[0m\u001b[1;33m]\u001b[0m\u001b[1;33m\u001b[0m\u001b[1;33m\u001b[0m\u001b[0m\n\u001b[0;32m     26\u001b[0m     \u001b[1;32mfor\u001b[0m \u001b[0mn\u001b[0m \u001b[1;32min\u001b[0m \u001b[0mrange\u001b[0m\u001b[1;33m(\u001b[0m\u001b[0mstart\u001b[0m\u001b[1;33m,\u001b[0m \u001b[0mend\u001b[0m \u001b[1;33m+\u001b[0m \u001b[1;36m1\u001b[0m\u001b[1;33m)\u001b[0m\u001b[1;33m:\u001b[0m\u001b[1;33m\u001b[0m\u001b[1;33m\u001b[0m\u001b[0m\n\u001b[1;32m---> 27\u001b[1;33m         \u001b[1;32mif\u001b[0m \u001b[0mis_prime\u001b[0m\u001b[1;33m(\u001b[0m\u001b[0mn\u001b[0m\u001b[1;33m)\u001b[0m\u001b[1;33m:\u001b[0m\u001b[1;33m\u001b[0m\u001b[1;33m\u001b[0m\u001b[0m\n\u001b[0m\u001b[0;32m     28\u001b[0m             \u001b[0mprimes\u001b[0m\u001b[1;33m.\u001b[0m\u001b[0mappend\u001b[0m\u001b[1;33m(\u001b[0m\u001b[0mn\u001b[0m\u001b[1;33m)\u001b[0m\u001b[1;33m\u001b[0m\u001b[1;33m\u001b[0m\u001b[0m\n\u001b[0;32m     29\u001b[0m     \u001b[1;32mreturn\u001b[0m \u001b[0mprimes\u001b[0m\u001b[1;33m\u001b[0m\u001b[1;33m\u001b[0m\u001b[0m\n",
      "\u001b[1;32m~\\AppData\\Local\\Temp\\ipykernel_24560\\1339174721.py\u001b[0m in \u001b[0;36mis_prime\u001b[1;34m(n)\u001b[0m\n\u001b[0;32m      6\u001b[0m         \u001b[1;32mreturn\u001b[0m \u001b[1;32mFalse\u001b[0m\u001b[1;33m\u001b[0m\u001b[1;33m\u001b[0m\u001b[0m\n\u001b[0;32m      7\u001b[0m     \u001b[1;32mfor\u001b[0m \u001b[0mi\u001b[0m \u001b[1;32min\u001b[0m \u001b[0mrange\u001b[0m\u001b[1;33m(\u001b[0m\u001b[1;36m2\u001b[0m\u001b[1;33m,\u001b[0m \u001b[0mint\u001b[0m\u001b[1;33m(\u001b[0m\u001b[0mn\u001b[0m \u001b[1;33m**\u001b[0m \u001b[1;36m0.5\u001b[0m\u001b[1;33m)\u001b[0m \u001b[1;33m+\u001b[0m \u001b[1;36m1\u001b[0m\u001b[1;33m)\u001b[0m\u001b[1;33m:\u001b[0m\u001b[1;33m\u001b[0m\u001b[1;33m\u001b[0m\u001b[0m\n\u001b[1;32m----> 8\u001b[1;33m         \u001b[1;32mif\u001b[0m \u001b[0mn\u001b[0m \u001b[1;33m%\u001b[0m \u001b[0mi\u001b[0m \u001b[1;33m==\u001b[0m \u001b[1;36m0\u001b[0m\u001b[1;33m:\u001b[0m\u001b[1;33m\u001b[0m\u001b[1;33m\u001b[0m\u001b[0m\n\u001b[0m\u001b[0;32m      9\u001b[0m             \u001b[1;32mreturn\u001b[0m \u001b[1;32mFalse\u001b[0m\u001b[1;33m\u001b[0m\u001b[1;33m\u001b[0m\u001b[0m\n\u001b[0;32m     10\u001b[0m     \u001b[1;32mreturn\u001b[0m \u001b[1;32mTrue\u001b[0m\u001b[1;33m\u001b[0m\u001b[1;33m\u001b[0m\u001b[0m\n",
      "\u001b[1;31mKeyboardInterrupt\u001b[0m: "
     ]
    }
   ],
   "source": [
    "import os\n",
    "import csv\n",
    "\n",
    "def is_prime(n):\n",
    "    if n < 2:\n",
    "        return False\n",
    "    for i in range(2, int(n ** 0.5) + 1):\n",
    "        if n % i == 0:\n",
    "            return False\n",
    "    return True\n",
    "\n",
    "def get_last_prime_number():\n",
    "    if not os.path.exists('Prime_numbers.csv'):\n",
    "        return 0\n",
    "    with open('Prime_numbers.csv', 'r') as file:\n",
    "        reader = csv.reader(file)\n",
    "        last_row = None\n",
    "        for row in reader:\n",
    "            last_row = row\n",
    "        if last_row is not None:\n",
    "            return int(last_row[0])\n",
    "    return 0\n",
    "\n",
    "def generate_prime_numbers(start, end):\n",
    "    primes = []\n",
    "    for n in range(start, end + 1):\n",
    "        if is_prime(n):\n",
    "            primes.append(n)\n",
    "    return primes\n",
    "\n",
    "def write_prime_numbers_to_csv(primes):\n",
    "    with open('Prime_numbers.csv', 'a', newline='') as file:\n",
    "        writer = csv.writer(file)\n",
    "        for prime in primes:\n",
    "            writer.writerow([prime])\n",
    "\n",
    "last_prime = get_last_prime_number()\n",
    "chunk_size = 100000\n",
    "start = last_prime + 1\n",
    "end = start + chunk_size - 1\n",
    "while True:\n",
    "    primes = generate_prime_numbers(start, end)\n",
    "    if not primes:\n",
    "        break\n",
    "    write_prime_numbers_to_csv(primes)\n",
    "    # print(f'Added {len(primes)} prime numbers to the CSV file.')\n",
    "    start = end + 1\n",
    "    end = start + chunk_size - 1\n"
   ]
  },
  {
   "cell_type": "code",
   "execution_count": 12,
   "id": "fe41d0ae",
   "metadata": {},
   "outputs": [
    {
     "name": "stdout",
     "output_type": "stream",
     "text": [
      "               2\n",
      "999995  15485843\n",
      "999996  15485849\n",
      "999997  15485857\n",
      "999998  15485863\n",
      "999999  15485867\n",
      "                2\n",
      "1999995  32452789\n",
      "1999996  32452837\n",
      "1999997  32452841\n",
      "1999998  32452843\n",
      "1999999  32452867\n",
      "                2\n",
      "2999995  49979653\n",
      "2999996  49979663\n",
      "2999997  49979681\n",
      "2999998  49979687\n",
      "2999999  49979693\n",
      "                2\n",
      "3999995  67867949\n",
      "3999996  67867951\n",
      "3999997  67867957\n",
      "3999998  67867967\n",
      "3999999  67867979\n",
      "                2\n",
      "4768388  81799877\n",
      "4768389  81799897\n",
      "4768390  81799973\n",
      "4768391  81799987\n",
      "4768392         8\n"
     ]
    }
   ],
   "source": [
    "for chunk in pd.read_csv('primes.csv', chunksize=1000000):\n",
    "    print(chunk.tail())"
   ]
  },
  {
   "cell_type": "code",
   "execution_count": null,
   "id": "f23af669",
   "metadata": {},
   "outputs": [],
   "source": []
  }
 ],
 "metadata": {
  "kernelspec": {
   "display_name": "Python 3 (ipykernel)",
   "language": "python",
   "name": "python3"
  },
  "language_info": {
   "codemirror_mode": {
    "name": "ipython",
    "version": 3
   },
   "file_extension": ".py",
   "mimetype": "text/x-python",
   "name": "python",
   "nbconvert_exporter": "python",
   "pygments_lexer": "ipython3",
   "version": "3.9.13"
  }
 },
 "nbformat": 4,
 "nbformat_minor": 5
}
