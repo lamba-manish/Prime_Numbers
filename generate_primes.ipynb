import os
import csv

def is_prime(n):
    if n < 2:
        return False
    for i in range(2, int(n ** 0.5) + 1):
        if n % i == 0:
            return False
    return True

def get_last_prime_number():
    if not os.path.exists('Prime_numbers.csv'):
        return 0
    with open('Prime_numbers.csv', 'r') as file:
        reader = csv.reader(file)
        last_row = None
        for row in reader:
            last_row = row
        if last_row is not None:
            return int(last_row[0])
    return 0

def generate_prime_numbers(start, end):
    primes = []
    for n in range(start, end + 1):
        if is_prime(n):
            primes.append(n)
    return primes

def write_prime_numbers_to_csv(primes):
    with open('Prime_numbers.csv', 'a', newline='') as file:
        writer = csv.writer(file)
        for prime in primes:
            writer.writerow([prime])

last_prime = get_last_prime_number()
chunk_size = 100000
start = last_prime + 1
end = start + chunk_size - 1
while True:
    primes = generate_prime_numbers(start, end)
    if not primes:
        break
    write_prime_numbers_to_csv(primes)
    # print(f'Added {len(primes)} prime numbers to the CSV file.')
    start = end + 1
    end = start + chunk_size - 1
